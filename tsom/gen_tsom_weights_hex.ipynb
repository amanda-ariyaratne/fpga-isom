{
 "cells": [
  {
   "cell_type": "code",
   "execution_count": 32,
   "id": "b6aea5fc",
   "metadata": {},
   "outputs": [],
   "source": [
    "with open(\"tsom_weights.mem\") as file:\n",
    "    weights_bin = file.readlines()   \n",
    "    \n",
    "rows = 10\n",
    "cols = 10\n",
    "train_len = 75\n",
    "test_len = 150\n",
    "W = []"
   ]
  },
  {
   "cell_type": "code",
   "execution_count": 14,
   "id": "29f889fb",
   "metadata": {},
   "outputs": [],
   "source": [
    "count = 1\n",
    "row = []\n",
    "for w in weights_bin:\n",
    "    hex_str = str(hex(int(w, 2)))\n",
    "    if len(row) == cols:\n",
    "        W.append(row)\n",
    "        row = []\n",
    "    row.append(hex_str[2:])\n",
    "W.append(row)"
   ]
  },
  {
   "cell_type": "code",
   "execution_count": 18,
   "id": "da19c272",
   "metadata": {},
   "outputs": [],
   "source": [
    "hex_file_content = \"\"\n",
    "for r in range(rows):\n",
    "    row = \"\"\n",
    "    for c in range(cols):\n",
    "        row += W[r][c] + \" \"\n",
    "    row = row.strip()\n",
    "    row += \"\\n\"\n",
    "    hex_file_content += row"
   ]
  },
  {
   "cell_type": "code",
   "execution_count": 19,
   "id": "1997835c",
   "metadata": {},
   "outputs": [],
   "source": [
    "with open(\"tsom_weights_hex.mem\", \"w\") as file:\n",
    "    file.write(hex_file_content)"
   ]
  },
  {
   "cell_type": "code",
   "execution_count": 30,
   "id": "128e2ffa",
   "metadata": {},
   "outputs": [],
   "source": [
    "with open(\"tsom_train.mem\") as file:\n",
    "    train = file.readlines()\n",
    "\n",
    "train_x_content = \"\"\n",
    "for i in range(train_len):\n",
    "    train_x_content += train[i][:2000] + \"\\n\"\n",
    "\n",
    "with open(\"tsom_train_x.mem\", \"w\") as file:\n",
    "    file.write(train_x_content)\n",
    "    \n",
    "train_y_content = \"\"\n",
    "for i in range(train_len):\n",
    "    train_y_content += train[i][2000:]\n",
    "\n",
    "with open(\"tsom_train_y.mem\", \"w\") as file:\n",
    "    file.write(train_y_content)"
   ]
  },
  {
   "cell_type": "code",
   "execution_count": 33,
   "id": "747e8e25",
   "metadata": {},
   "outputs": [],
   "source": [
    "with open(\"tsom_test.mem\") as file:\n",
    "    test = file.readlines()\n",
    "\n",
    "test_x_content = \"\"\n",
    "for i in range(test_len):\n",
    "    test_x_content += test[i][:2000] + \"\\n\"\n",
    "\n",
    "with open(\"tsom_test_x.mem\", \"w\") as file:\n",
    "    file.write(test_x_content)\n",
    "    \n",
    "test_y_content = \"\"\n",
    "for i in range(test_len):\n",
    "    test_y_content += test[i][2000:]\n",
    "\n",
    "with open(\"tsom_test_y.mem\", \"w\") as file:\n",
    "    file.write(test_y_content)"
   ]
  },
  {
   "cell_type": "code",
   "execution_count": null,
   "id": "08445bf5",
   "metadata": {},
   "outputs": [],
   "source": []
  }
 ],
 "metadata": {
  "kernelspec": {
   "display_name": "Python 3",
   "language": "python",
   "name": "python3"
  },
  "language_info": {
   "codemirror_mode": {
    "name": "ipython",
    "version": 3
   },
   "file_extension": ".py",
   "mimetype": "text/x-python",
   "name": "python",
   "nbconvert_exporter": "python",
   "pygments_lexer": "ipython3",
   "version": "3.8.8"
  }
 },
 "nbformat": 4,
 "nbformat_minor": 5
}
